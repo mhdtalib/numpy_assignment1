{
 "cells": [
  {
   "cell_type": "markdown",
   "id": "f13a243e",
   "metadata": {},
   "source": [
    "# Create a null vector of size 10 but the fifth value which is 1."
   ]
  },
  {
   "cell_type": "code",
   "execution_count": 1,
   "id": "a9f66ded",
   "metadata": {},
   "outputs": [
    {
     "data": {
      "text/plain": [
       "array([0, 0, 0, 0, 1, 0, 0, 0, 0, 0])"
      ]
     },
     "execution_count": 1,
     "metadata": {},
     "output_type": "execute_result"
    }
   ],
   "source": [
    "import numpy as np \n",
    "(np.arange(10)==4).astype(int)"
   ]
  },
  {
   "cell_type": "markdown",
   "id": "10c14bcb",
   "metadata": {},
   "source": [
    "# Create a 3x3 matrix with values ranging from 0 to 8\n"
   ]
  },
  {
   "cell_type": "code",
   "execution_count": 3,
   "id": "da312386",
   "metadata": {},
   "outputs": [
    {
     "name": "stdout",
     "output_type": "stream",
     "text": [
      "[[0 1 2]\n",
      " [3 4 5]\n",
      " [6 7 8]]\n"
     ]
    }
   ],
   "source": [
    "x=np.arange(0,9).reshape(3,3)\n",
    "print(x)"
   ]
  },
  {
   "cell_type": "markdown",
   "id": "010c9a8d",
   "metadata": {},
   "source": [
    "# Create a vector with values ranging from 10 to 49."
   ]
  },
  {
   "cell_type": "code",
   "execution_count": 4,
   "id": "2599ebb2",
   "metadata": {},
   "outputs": [
    {
     "data": {
      "text/plain": [
       "array([10, 11, 12, 13, 14, 15, 16, 17, 18, 19, 20, 21, 22, 23, 24, 25, 26,\n",
       "       27, 28, 29, 30, 31, 32, 33, 34, 35, 36, 37, 38, 39, 40, 41, 42, 43,\n",
       "       44, 45, 46, 47, 48, 49])"
      ]
     },
     "execution_count": 4,
     "metadata": {},
     "output_type": "execute_result"
    }
   ],
   "source": [
    "np.arange(10,50)"
   ]
  },
  {
   "cell_type": "markdown",
   "id": "1d08b163",
   "metadata": {},
   "source": [
    "# Find indices of non-zero elements from [1,2,0,0,4,0]"
   ]
  },
  {
   "cell_type": "code",
   "execution_count": 8,
   "id": "c34929a3",
   "metadata": {},
   "outputs": [
    {
     "name": "stdout",
     "output_type": "stream",
     "text": [
      "indices of non-zero elements are: (array([0, 1, 4], dtype=int64),)\n"
     ]
    }
   ],
   "source": [
    "x=np.array([1,2,0,0,4,0])\n",
    "print(\"indices of non-zero elements are:\",np.nonzero(x))"
   ]
  },
  {
   "cell_type": "markdown",
   "id": "00e9398a",
   "metadata": {},
   "source": [
    "# Create a 10x10 array with random values and find the minimum and maximum values."
   ]
  },
  {
   "cell_type": "code",
   "execution_count": 12,
   "id": "0ae1c1a6",
   "metadata": {},
   "outputs": [
    {
     "name": "stdout",
     "output_type": "stream",
     "text": [
      "Minimum vales: 0.0011815132616231905\n",
      "Maximum values: 0.9869919040435984\n",
      "[[0.28565662 0.81836024 0.52309563 0.83401772 0.9400339  0.20575618\n",
      "  0.14020792 0.61089122 0.46415979 0.21619318]\n",
      " [0.41741477 0.48625445 0.46771967 0.04496279 0.4438119  0.1561554\n",
      "  0.79923028 0.83532946 0.36439595 0.51391058]\n",
      " [0.7910099  0.89300165 0.0683352  0.3555846  0.48202802 0.3200311\n",
      "  0.50597725 0.98426259 0.89014955 0.00118151]\n",
      " [0.01461379 0.65657694 0.93546228 0.68458836 0.69769316 0.98167002\n",
      "  0.69854323 0.04741607 0.39884421 0.70111501]\n",
      " [0.67747339 0.87314664 0.58509456 0.94332239 0.9869919  0.67276716\n",
      "  0.21596437 0.34250687 0.95302955 0.24096445]\n",
      " [0.80494458 0.79648177 0.7246619  0.74608498 0.93199122 0.44789323\n",
      "  0.28929231 0.08797782 0.58232986 0.29646442]\n",
      " [0.91694295 0.31411952 0.83531481 0.38964898 0.23287062 0.37933601\n",
      "  0.13381337 0.89100312 0.10582613 0.90869013]\n",
      " [0.58591153 0.62804052 0.22817883 0.37855781 0.94478368 0.33735644\n",
      "  0.61552231 0.31258606 0.75668292 0.44896582]\n",
      " [0.692235   0.86963435 0.6266403  0.297944   0.85196262 0.40531007\n",
      "  0.74089335 0.41687266 0.23515532 0.66842699]\n",
      " [0.13017951 0.83296052 0.64876037 0.0860398  0.16728145 0.4649358\n",
      "  0.90075867 0.71950557 0.83397499 0.49470625]]\n"
     ]
    }
   ],
   "source": [
    "# import random\n",
    "random.seed(10)\n",
    "x=np.random.random(size=(10,10))\n",
    "print(\"Minimum vales:\",x.min())\n",
    "print(\"Maximum values:\",x.max())\n",
    "print(x)"
   ]
  },
  {
   "cell_type": "markdown",
   "id": "de2f841b",
   "metadata": {},
   "source": [
    "# Create a random vector of size 30 and find the mean value."
   ]
  },
  {
   "cell_type": "code",
   "execution_count": 11,
   "id": "7b9a628d",
   "metadata": {},
   "outputs": [
    {
     "name": "stdout",
     "output_type": "stream",
     "text": [
      "mean: 0.5354088028177687\n"
     ]
    }
   ],
   "source": [
    "arr=np.random.random((5,6))\n",
    "Mean_value_of_the_matrix=np.mean(arr)\n",
    "print(\"mean:\",Mean_value_of_the_matrix)"
   ]
  }
 ],
 "metadata": {
  "kernelspec": {
   "display_name": "Python 3 (ipykernel)",
   "language": "python",
   "name": "python3"
  },
  "language_info": {
   "codemirror_mode": {
    "name": "ipython",
    "version": 3
   },
   "file_extension": ".py",
   "mimetype": "text/x-python",
   "name": "python",
   "nbconvert_exporter": "python",
   "pygments_lexer": "ipython3",
   "version": "3.9.5"
  }
 },
 "nbformat": 4,
 "nbformat_minor": 5
}
